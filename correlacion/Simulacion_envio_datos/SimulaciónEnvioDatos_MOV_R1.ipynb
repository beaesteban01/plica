{
 "cells": [
  {
   "cell_type": "code",
   "execution_count": 2,
   "metadata": {
    "colab": {
     "base_uri": "https://localhost:8080/"
    },
    "executionInfo": {
     "elapsed": 1768,
     "status": "ok",
     "timestamp": 1610964862618,
     "user": {
      "displayName": "Xavier Larriva",
      "photoUrl": "https://lh3.googleusercontent.com/a-/AOh14Giob1UPGhI-FOFOI2ZrHy67aJj7K7vHsaLCYv3_3wE=s64",
      "userId": "14831005653592329177"
     },
     "user_tz": -60
    },
    "id": "nQSt4_tmvwSA",
    "outputId": "b9090647-da9c-4681-ebab-a5a31171249a"
   },
   "outputs": [],
   "source": [
    "import json\n",
    "import sys\n",
    "import getopt\n",
    "import configparser\n",
    "import pandas as pd\n",
    "import time\n",
    "from datetime import datetime\n",
    "#from google.colab import drive\n",
    "#from google.colab import files\n",
    "from random import randrange\n",
    "'''\n",
    "#drive.mount(\"/content/gdrive\", force_remount=True)\n",
    "path = \"./Sensores/sensorrf_1850.log\"\n",
    "df=pd.read_json(path)\n",
    "'''\n",
    "version=1.0\n",
    "id=\"f0c48ba4-387d-11ea-a137-2e728ce88126\"\n",
    "type1=\"redes moviles\"\n",
    "event=\"DATA\"\n"
   ]
  },
  {
   "cell_type": "code",
   "execution_count": 3,
   "metadata": {},
   "outputs": [],
   "source": [
    "i=200"
   ]
  },
  {
   "cell_type": "code",
   "execution_count": 4,
   "metadata": {},
   "outputs": [],
   "source": [
    "#3 eventos de Redesmov\n",
    "n_eventos=3\n",
    "\n",
    "#Campos editables para pruebas \n",
    "imei_ed= 35937204822971\n",
    "imsi_ed = 901700000015702\n"
   ]
  },
  {
   "cell_type": "code",
   "execution_count": 7,
   "metadata": {},
   "outputs": [
    {
     "name": "stdout",
     "output_type": "stream",
     "text": [
      "b'{\\n  \"name\" : \"ubuntu-bionic\",\\n  \"cluster_name\" : \"elasticsearch\",\\n  \"cluster_uuid\" : \"JRtcYRuWR22PaNEDG5_26Q\",\\n  \"version\" : {\\n    \"number\" : \"7.9.2\",\\n    \"build_flavor\" : \"default\",\\n    \"build_type\" : \"tar\",\\n    \"build_hash\" : \"d34da0ea4a966c4e49417f2da2f244e3e97b4e6e\",\\n    \"build_date\" : \"2020-09-23T00:45:33.626720Z\",\\n    \"build_snapshot\" : false,\\n    \"lucene_version\" : \"8.6.2\",\\n    \"minimum_wire_compatibility_version\" : \"6.8.0\",\\n    \"minimum_index_compatibility_version\" : \"6.0.0-beta1\"\\n  },\\n  \"tagline\" : \"You Know, for Search\"\\n}\\n'\n",
      "{'prediction': '1', 'imei': 35937204822971, 'imsi': 901700000015702, 'rat': '2G', 'time': 1599497306, 'time_stamp': '2021-02-15T09:43:50.546439', 'id': 'f0c48ba4-387d-11ea-a137-2e728ce88126', 'type': 'redes moviles', 'event': 'DATA'}\n",
      "{'prediction': '1', 'imei': 35937204822971, 'imsi': 901700000015702, 'rat': '2G', 'time': 1599497306, 'time_stamp': '2021-02-15T09:43:51.566667', 'id': 'f0c48ba4-387d-11ea-a137-2e728ce88126', 'type': 'redes moviles', 'event': 'DATA'}\n",
      "{'prediction': '1', 'imei': 35937204822971, 'imsi': 901700000015702, 'rat': '2G', 'time': 1599497306, 'time_stamp': '2021-02-15T09:43:55.595461', 'id': 'f0c48ba4-387d-11ea-a137-2e728ce88126', 'type': 'redes moviles', 'event': 'DATA'}\n",
      "han pasado 3 min\n"
     ]
    }
   ],
   "source": [
    "#Envio a Elasticsearch\n",
    "import requests, json, os\n",
    "from elasticsearch import Elasticsearch\n",
    "\n",
    "\n",
    "res = requests.get('http://localhost:9200')\n",
    "print (res.content)\n",
    "es = Elasticsearch([{'host': 'localhost', 'port': '9200'}])\n",
    "\n",
    "for _y in range(1):\n",
    "    for _n in range(n_eventos):\n",
    "        datos = {\n",
    "            \"prediction\":\"1\",\n",
    "            \"imei\": imei_ed,\n",
    "            \"imsi\": imsi_ed,\n",
    "            \"rat\": \"2G\",\n",
    "            \"time\": 1599497306,\n",
    "            \"time_stamp\": datetime.now().isoformat(),\n",
    "            \"id\": id,\n",
    "            \"type\": type1,\n",
    "            \"event\": event  \n",
    "        }\n",
    "        es.index(index='redes_moviles', id = i, body=datos)\n",
    "        print(datos)\n",
    "        i = i +1\n",
    "        #print(i)\n",
    "        time.sleep(randrange(5))\n",
    "    \n",
    "    #time.sleep(360)#cada 6 mins\n",
    "    print(\"han pasado 3 min\")"
   ]
  },
  {
   "cell_type": "code",
   "execution_count": null,
   "metadata": {},
   "outputs": [],
   "source": []
  }
 ],
 "metadata": {
  "colab": {
   "collapsed_sections": [],
   "name": "EnviodatosKafka.ipynb",
   "provenance": []
  },
  "kernelspec": {
   "display_name": "Python 3",
   "language": "python",
   "name": "python3"
  },
  "language_info": {
   "codemirror_mode": {
    "name": "ipython",
    "version": 3
   },
   "file_extension": ".py",
   "mimetype": "text/x-python",
   "name": "python",
   "nbconvert_exporter": "python",
   "pygments_lexer": "ipython3",
   "version": "3.6.8"
  }
 },
 "nbformat": 4,
 "nbformat_minor": 1
}
