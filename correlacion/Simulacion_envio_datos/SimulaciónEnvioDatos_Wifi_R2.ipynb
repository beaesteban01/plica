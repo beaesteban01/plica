{
 "cells": [
  {
   "cell_type": "code",
   "execution_count": 1,
   "metadata": {
    "colab": {
     "base_uri": "https://localhost:8080/"
    },
    "executionInfo": {
     "elapsed": 1768,
     "status": "ok",
     "timestamp": 1610964862618,
     "user": {
      "displayName": "Xavier Larriva",
      "photoUrl": "https://lh3.googleusercontent.com/a-/AOh14Giob1UPGhI-FOFOI2ZrHy67aJj7K7vHsaLCYv3_3wE=s64",
      "userId": "14831005653592329177"
     },
     "user_tz": -60
    },
    "id": "nQSt4_tmvwSA",
    "outputId": "b9090647-da9c-4681-ebab-a5a31171249a"
   },
   "outputs": [],
   "source": [
    "import json\n",
    "import sys\n",
    "import getopt\n",
    "import configparser\n",
    "import pandas as pd\n",
    "import time\n",
    "from datetime import datetime\n",
    "#from google.colab import drive\n",
    "#from google.colab import files\n",
    "from random import randrange\n",
    "'''\n",
    "#drive.mount(\"/content/gdrive\", force_remount=True)\n",
    "path = \"./Sensores/sensorrf_1850.log\"\n",
    "df=pd.read_json(path)\n",
    "'''\n",
    "version=1.0\n",
    "id=\"f0c48ba4-387d-11ea-a137-2e728ce88126\"\n",
    "type1=\"WF\"\n",
    "event=\"DATA\"\n"
   ]
  },
  {
   "cell_type": "code",
   "execution_count": 2,
   "metadata": {},
   "outputs": [],
   "source": [
    "i=420"
   ]
  },
  {
   "cell_type": "code",
   "execution_count": 4,
   "metadata": {},
   "outputs": [],
   "source": [
    "#num eventos\n",
    "n_eventos=4\n",
    "\n",
    "\n",
    "#campos editables para cada prueba\n",
    "auth_edit = \"PSK\"\n",
    "tx_packets_ed = 1500\n",
    "rx_packets_ed = 150\n"
   ]
  },
  {
   "cell_type": "code",
   "execution_count": 9,
   "metadata": {
    "scrolled": true
   },
   "outputs": [
    {
     "name": "stdout",
     "output_type": "stream",
     "text": [
      "b'{\\n  \"name\" : \"ubuntu-bionic\",\\n  \"cluster_name\" : \"elasticsearch\",\\n  \"cluster_uuid\" : \"JRtcYRuWR22PaNEDG5_26Q\",\\n  \"version\" : {\\n    \"number\" : \"7.9.2\",\\n    \"build_flavor\" : \"default\",\\n    \"build_type\" : \"tar\",\\n    \"build_hash\" : \"d34da0ea4a966c4e49417f2da2f244e3e97b4e6e\",\\n    \"build_date\" : \"2020-09-23T00:45:33.626720Z\",\\n    \"build_snapshot\" : false,\\n    \"lucene_version\" : \"8.6.2\",\\n    \"minimum_wire_compatibility_version\" : \"6.8.0\",\\n    \"minimum_index_compatibility_version\" : \"6.0.0-beta1\"\\n  },\\n  \"tagline\" : \"You Know, for Search\"\\n}\\n'\n",
      "{'essid': 'MiFibra-B51C', 'rx_bytes': 0, 'rx_packets': 150, 'tx_bytes': 494, 'tx_packets': 1500, 'oui': 'arcadyan', 'power': -73, 'address': 'EC:F4:51:9C:B5:1E', 'channel': 1, 'prediction': '0', 'caps': '0X1411', 'secur': 'WPA2', 'cipher': 'CCMP', 'auth': 'PSK', 'version': 1.0, 'time_stamp_corre': '2021-02-15T16:17:27.855541', 'id': 'f0c48ba4-387d-11ea-a137-2e728ce88126', 'type': 'WF', 'event': 'DATA'}\n",
      "{'essid': 'MiFibra-B51C', 'rx_bytes': 0, 'rx_packets': 150, 'tx_bytes': 494, 'tx_packets': 1500, 'oui': 'arcadyan', 'power': -73, 'address': 'EC:F4:51:9C:B5:1E', 'channel': 1, 'prediction': '0', 'caps': '0X1411', 'secur': 'WPA2', 'cipher': 'CCMP', 'auth': 'PSK', 'version': 1.0, 'time_stamp_corre': '2021-02-15T16:17:29.887412', 'id': 'f0c48ba4-387d-11ea-a137-2e728ce88126', 'type': 'WF', 'event': 'DATA'}\n",
      "{'essid': 'MiFibra-B51C', 'rx_bytes': 0, 'rx_packets': 150, 'tx_bytes': 494, 'tx_packets': 1500, 'oui': 'arcadyan', 'power': -73, 'address': 'EC:F4:51:9C:B5:1E', 'channel': 1, 'prediction': '0', 'caps': '0X1411', 'secur': 'WPA2', 'cipher': 'CCMP', 'auth': 'PSK', 'version': 1.0, 'time_stamp_corre': '2021-02-15T16:17:31.908825', 'id': 'f0c48ba4-387d-11ea-a137-2e728ce88126', 'type': 'WF', 'event': 'DATA'}\n",
      "{'essid': 'MiFibra-B51C', 'rx_bytes': 0, 'rx_packets': 150, 'tx_bytes': 494, 'tx_packets': 1500, 'oui': 'arcadyan', 'power': -73, 'address': 'EC:F4:51:9C:B5:1E', 'channel': 1, 'prediction': '0', 'caps': '0X1411', 'secur': 'WPA2', 'cipher': 'CCMP', 'auth': 'PSK', 'version': 1.0, 'time_stamp_corre': '2021-02-15T16:17:32.948275', 'id': 'f0c48ba4-387d-11ea-a137-2e728ce88126', 'type': 'WF', 'event': 'DATA'}\n",
      "han pasado 3 min\n"
     ]
    }
   ],
   "source": [
    "import requests, json, os\n",
    "from elasticsearch import Elasticsearch\n",
    "\n",
    "\n",
    "res = requests.get('http://localhost:9200')\n",
    "print (res.content)\n",
    "es = Elasticsearch([{'host': 'localhost', 'port': '9200'}])\n",
    "\n",
    "for _y in range(1):\n",
    "    for _n in range(n_eventos):\n",
    "        datos = {\n",
    "            \"essid\": \"MiFibra-B51C\",\n",
    "            \"rx_bytes\": 0,\n",
    "            \"rx_packets\": rx_packets_ed,\n",
    "            \"tx_bytes\": 494,\n",
    "            \"tx_packets\": tx_packets_ed,\n",
    "            \"oui\": \"arcadyan\",\n",
    "            \"power\": -73,\n",
    "            \"address\": \"EC:F4:51:9C:B5:1E\",\n",
    "            \"channel\": 1,\n",
    "            \"prediction\": \"0\",\n",
    "            \"caps\": \"0X1411\",\n",
    "            \"secur\": \"WPA2\",\n",
    "            \"cipher\": \"CCMP\",\n",
    "            \"auth\": auth_edit,\n",
    "            \"version\": version,\n",
    "            \"time_stamp_corre\": datetime.now().isoformat(),\n",
    "            \"id\": id,\n",
    "            \"type\": type1,\n",
    "            \"event\": event  \n",
    "        }\n",
    "        #print(i)\n",
    "        es.index(index='wifi', id = i ,body=datos)\n",
    "        print(datos)\n",
    "        i = i +1\n",
    "      \n",
    "        time.sleep(randrange(5)) \n",
    "    \n",
    "    #time.sleep(360)#cada 6 mins\n",
    "    print(\"han pasado 3 min\")"
   ]
  },
  {
   "cell_type": "code",
   "execution_count": null,
   "metadata": {},
   "outputs": [],
   "source": []
  }
 ],
 "metadata": {
  "colab": {
   "collapsed_sections": [],
   "name": "EnviodatosKafka.ipynb",
   "provenance": []
  },
  "kernelspec": {
   "display_name": "Python 3",
   "language": "python",
   "name": "python3"
  },
  "language_info": {
   "codemirror_mode": {
    "name": "ipython",
    "version": 3
   },
   "file_extension": ".py",
   "mimetype": "text/x-python",
   "name": "python",
   "nbconvert_exporter": "python",
   "pygments_lexer": "ipython3",
   "version": "3.6.8"
  }
 },
 "nbformat": 4,
 "nbformat_minor": 1
}
