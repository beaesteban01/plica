{
 "cells": [
  {
   "cell_type": "code",
   "execution_count": 1,
   "metadata": {
    "colab": {
     "base_uri": "https://localhost:8080/"
    },
    "executionInfo": {
     "elapsed": 1768,
     "status": "ok",
     "timestamp": 1610964862618,
     "user": {
      "displayName": "Xavier Larriva",
      "photoUrl": "https://lh3.googleusercontent.com/a-/AOh14Giob1UPGhI-FOFOI2ZrHy67aJj7K7vHsaLCYv3_3wE=s64",
      "userId": "14831005653592329177"
     },
     "user_tz": -60
    },
    "id": "nQSt4_tmvwSA",
    "outputId": "b9090647-da9c-4681-ebab-a5a31171249a"
   },
   "outputs": [],
   "source": [
    "import json\n",
    "import sys\n",
    "import getopt\n",
    "import configparser\n",
    "import pandas as pd\n",
    "import time\n",
    "from datetime import datetime\n",
    "#from google.colab import drive\n",
    "#from google.colab import files\n",
    "from random import randrange\n",
    "'''\n",
    "#drive.mount(\"/content/gdrive\", force_remount=True)\n",
    "path = \"./Sensores/sensorrf_1850.log\"\n",
    "df=pd.read_json(path)\n",
    "'''\n",
    "version=\"1.0\"\n",
    "id=\"f0c48ba4-387d-11ea-a137-2e728ce88126\"\n",
    "type1=\"RF\"\n",
    "event=\"DATA\"\n"
   ]
  },
  {
   "cell_type": "code",
   "execution_count": 2,
   "metadata": {},
   "outputs": [],
   "source": [
    "i=200"
   ]
  },
  {
   "cell_type": "code",
   "execution_count": 3,
   "metadata": {},
   "outputs": [],
   "source": [
    "#num eventos\n",
    "n_eventos=1\n",
    "\n",
    "#campos editables para cada prueba\n",
    "mod_ed = \"OOK\"\n",
    "payload_ed = \"e8e8e8e88888e8e888e8e8e801\"\n",
    "signal_ed = -63\n",
    "freq_ed = 433.78\n"
   ]
  },
  {
   "cell_type": "code",
   "execution_count": 12,
   "metadata": {},
   "outputs": [
    {
     "name": "stdout",
     "output_type": "stream",
     "text": [
      "b'{\\n  \"name\" : \"ubuntu-bionic\",\\n  \"cluster_name\" : \"elasticsearch\",\\n  \"cluster_uuid\" : \"JRtcYRuWR22PaNEDG5_26Q\",\\n  \"version\" : {\\n    \"number\" : \"7.9.2\",\\n    \"build_flavor\" : \"default\",\\n    \"build_type\" : \"tar\",\\n    \"build_hash\" : \"d34da0ea4a966c4e49417f2da2f244e3e97b4e6e\",\\n    \"build_date\" : \"2020-09-23T00:45:33.626720Z\",\\n    \"build_snapshot\" : false,\\n    \"lucene_version\" : \"8.6.2\",\\n    \"minimum_wire_compatibility_version\" : \"6.8.0\",\\n    \"minimum_index_compatibility_version\" : \"6.0.0-beta1\"\\n  },\\n  \"tagline\" : \"You Know, for Search\"\\n}\\n'\n",
      "{'prediction': '1', 'time': '1600763469', 'signal': -63, 'payload': 'e8e8e8e88888e8e888e8e8e801', 'freq': 433.78, 'mod': 'OOK', 'time_stamp': '2021-02-15T09:43:52.137595', 'id': 'f0c48ba4-387d-11ea-a137-2e728ce88126', 'type': 'RF', 'event': 'DATA', 'version': '1.0'}\n",
      "han pasado 3 min\n"
     ]
    }
   ],
   "source": [
    "import requests, json, os\n",
    "from elasticsearch import Elasticsearch\n",
    "\n",
    "\n",
    "res = requests.get('http://localhost:9200')\n",
    "print (res.content)\n",
    "es = Elasticsearch([{'host': 'localhost', 'port': '9200'}])\n",
    "\n",
    "for _y in range(1):\n",
    "    for _n in range(n_eventos):\n",
    "        datos = {\n",
    "            \"prediction\": \"1\",\n",
    "            \"time\": \"1600763469\",\n",
    "            \"signal\": signal_ed,\n",
    "            \"payload\": payload_ed,\n",
    "            \"freq\": freq_ed,\n",
    "            \"mod\": mod_ed,\n",
    "            \"time_stamp\": datetime.now().isoformat(),\n",
    "            \"id\": id,\n",
    "            \"type\": type1,\n",
    "            \"event\": event,\n",
    "            \"version\": version         \n",
    "        }\n",
    "        #print(i)\n",
    "        #sin id se crea id aleaotrio\n",
    "        es.index(index='radio_frecuencia', id = i, body=datos)\n",
    "        print(datos)\n",
    "        i = i +1\n",
    "      \n",
    "        time.sleep(randrange(5)) \n",
    "    \n",
    "    #time.sleep(360)#cada 6 mins\n",
    "    print(\"han pasado 3 min\")"
   ]
  },
  {
   "cell_type": "code",
   "execution_count": null,
   "metadata": {},
   "outputs": [],
   "source": []
  }
 ],
 "metadata": {
  "colab": {
   "collapsed_sections": [],
   "name": "EnviodatosKafka.ipynb",
   "provenance": []
  },
  "kernelspec": {
   "display_name": "Python 3",
   "language": "python",
   "name": "python3"
  },
  "language_info": {
   "codemirror_mode": {
    "name": "ipython",
    "version": 3
   },
   "file_extension": ".py",
   "mimetype": "text/x-python",
   "name": "python",
   "nbconvert_exporter": "python",
   "pygments_lexer": "ipython3",
   "version": "3.6.8"
  }
 },
 "nbformat": 4,
 "nbformat_minor": 1
}
